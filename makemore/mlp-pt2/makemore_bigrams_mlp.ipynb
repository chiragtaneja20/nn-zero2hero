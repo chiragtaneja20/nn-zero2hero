{
 "cells": [
  {
   "cell_type": "code",
   "execution_count": 6,
   "metadata": {},
   "outputs": [],
   "source": [
    "import torch\n",
    "import torch.nn.functional as F\n",
    "import matplotlib.pyplot as plt"
   ]
  },
  {
   "cell_type": "code",
   "execution_count": 7,
   "metadata": {},
   "outputs": [
    {
     "data": {
      "text/plain": [
       "['emma',\n",
       " 'olivia',\n",
       " 'ava',\n",
       " 'isabella',\n",
       " 'sophia',\n",
       " 'charlotte',\n",
       " 'mia',\n",
       " 'amelia',\n",
       " 'harper',\n",
       " 'evelyn']"
      ]
     },
     "execution_count": 7,
     "metadata": {},
     "output_type": "execute_result"
    }
   ],
   "source": [
    "#read in all the words and store the word as the list\n",
    "words = open('Names(1).txt', 'r').read().splitlines()\n",
    "words[:10]"
   ]
  },
  {
   "cell_type": "code",
   "execution_count": 8,
   "metadata": {},
   "outputs": [
    {
     "data": {
      "text/plain": [
       "{'a': 1,\n",
       " 'b': 2,\n",
       " 'c': 3,\n",
       " 'd': 4,\n",
       " 'e': 5,\n",
       " 'f': 6,\n",
       " 'g': 7,\n",
       " 'h': 8,\n",
       " 'i': 9,\n",
       " 'j': 10,\n",
       " 'k': 11,\n",
       " 'l': 12,\n",
       " 'm': 13,\n",
       " 'n': 14,\n",
       " 'o': 15,\n",
       " 'p': 16,\n",
       " 'q': 17,\n",
       " 'r': 18,\n",
       " 's': 19,\n",
       " 't': 20,\n",
       " 'u': 21,\n",
       " 'v': 22,\n",
       " 'w': 23,\n",
       " 'x': 24,\n",
       " 'y': 25,\n",
       " 'z': 26,\n",
       " '.': 0}"
      ]
     },
     "execution_count": 8,
     "metadata": {},
     "output_type": "execute_result"
    }
   ],
   "source": [
    "# build the vocabulary of characters and mappings to/from integers\n",
    "chars = sorted(list(set(''.join(words))))\n",
    "stoi = {s:i+1 for i,s in enumerate(chars)}\n",
    "stoi['.'] = 0\n",
    "itos = {i:s for s,i in stoi.items()}\n",
    "\n",
    "stoi"
   ]
  },
  {
   "cell_type": "code",
   "execution_count": 9,
   "metadata": {},
   "outputs": [
    {
     "name": "stdout",
     "output_type": "stream",
     "text": [
      "emma\n",
      "... ----> e\n",
      "..e ----> m\n",
      ".em ----> m\n",
      "emm ----> a\n",
      "mma ----> .\n",
      "olivia\n",
      "... ----> o\n",
      "..o ----> l\n",
      ".ol ----> i\n",
      "oli ----> v\n",
      "liv ----> i\n",
      "ivi ----> a\n",
      "via ----> .\n",
      "ava\n",
      "... ----> a\n",
      "..a ----> v\n",
      ".av ----> a\n",
      "ava ----> .\n",
      "isabella\n",
      "... ----> i\n",
      "..i ----> s\n",
      ".is ----> a\n",
      "isa ----> b\n",
      "sab ----> e\n",
      "abe ----> l\n",
      "bel ----> l\n",
      "ell ----> a\n",
      "lla ----> .\n",
      "sophia\n",
      "... ----> s\n",
      "..s ----> o\n",
      ".so ----> p\n",
      "sop ----> h\n",
      "oph ----> i\n",
      "phi ----> a\n",
      "hia ----> .\n"
     ]
    }
   ],
   "source": [
    "#creating the dataset\n",
    "block_size = 3 #context length: how many characters do we take to predict the next one\n",
    "X=[]\n",
    "Y=[]\n",
    "\n",
    "for w in words[:5]:\n",
    "    print(w)\n",
    "    context = [0]*block_size\n",
    "    for ch in w + '.':\n",
    "        ix = stoi[ch]\n",
    "        X.append(context)\n",
    "        Y.append(ix)\n",
    "        print(''.join(itos[i] for i in context), '---->',itos[ix])\n",
    "        context =context[1:] + [ix] #crop and append\n",
    "\n",
    "X = torch.tensor(X)\n",
    "Y = torch.tensor(Y)"
   ]
  },
  {
   "cell_type": "code",
   "execution_count": 10,
   "metadata": {},
   "outputs": [
    {
     "data": {
      "text/plain": [
       "(torch.Size([32, 3]), torch.int64, torch.Size([32]), torch.int64)"
      ]
     },
     "execution_count": 10,
     "metadata": {},
     "output_type": "execute_result"
    }
   ],
   "source": [
    "X.shape,X.dtype,Y.shape,Y.dtype"
   ]
  },
  {
   "cell_type": "code",
   "execution_count": 11,
   "metadata": {},
   "outputs": [
    {
     "data": {
      "text/plain": [
       "tensor([[ 0.3584, -0.9612],\n",
       "        [ 1.2209, -0.8173],\n",
       "        [ 1.0074,  0.4221],\n",
       "        [-0.2114, -1.1824],\n",
       "        [ 0.3204, -0.4848],\n",
       "        [-0.4377, -0.3447],\n",
       "        [ 1.7681, -0.1936],\n",
       "        [-1.9232,  1.7464],\n",
       "        [-2.6339, -0.0132],\n",
       "        [-0.0758, -0.2195],\n",
       "        [-1.0787, -1.5236],\n",
       "        [-0.4294,  1.3556],\n",
       "        [ 1.7818,  0.5357],\n",
       "        [-0.2706, -0.2122],\n",
       "        [ 0.5894, -0.8780],\n",
       "        [-0.8719, -2.2597],\n",
       "        [-0.1749,  0.5056],\n",
       "        [ 0.1625,  0.4605],\n",
       "        [ 0.0705,  0.3900],\n",
       "        [ 0.2307, -1.8185],\n",
       "        [-1.3543,  1.4056],\n",
       "        [-0.8915,  0.7327],\n",
       "        [ 0.5136,  0.6045],\n",
       "        [-0.0885,  1.0480],\n",
       "        [-1.4323, -0.1783],\n",
       "        [-0.7129,  1.5515],\n",
       "        [ 1.5317,  1.2047]])"
      ]
     },
     "execution_count": 11,
     "metadata": {},
     "output_type": "execute_result"
    }
   ],
   "source": [
    "C = torch.randn(27,2)\n",
    "C"
   ]
  },
  {
   "cell_type": "code",
   "execution_count": 12,
   "metadata": {},
   "outputs": [],
   "source": [
    "HOT = F.one_hot(torch.tensor(5),num_classes = 27).float()"
   ]
  },
  {
   "cell_type": "code",
   "execution_count": 13,
   "metadata": {},
   "outputs": [
    {
     "name": "stdout",
     "output_type": "stream",
     "text": [
      "tensor([0., 0., 0., 0., 0., 1., 0., 0., 0., 0., 0., 0., 0., 0., 0., 0., 0., 0.,\n",
      "        0., 0., 0., 0., 0., 0., 0., 0., 0.])\n"
     ]
    }
   ],
   "source": [
    "print(HOT)"
   ]
  },
  {
   "cell_type": "code",
   "execution_count": 14,
   "metadata": {},
   "outputs": [
    {
     "data": {
      "text/plain": [
       "tensor([-0.4377, -0.3447])"
      ]
     },
     "execution_count": 14,
     "metadata": {},
     "output_type": "execute_result"
    }
   ],
   "source": [
    "# for intuition -> this was because only the 5th place of the HOT vector was non zero\n",
    "# so the result was simply the 5th row of the vector C\n",
    "HOT @ C"
   ]
  },
  {
   "cell_type": "code",
   "execution_count": 15,
   "metadata": {},
   "outputs": [
    {
     "data": {
      "text/plain": [
       "tensor([-0.4377, -0.3447])"
      ]
     },
     "execution_count": 15,
     "metadata": {},
     "output_type": "execute_result"
    }
   ],
   "source": [
    "# or just use simple indexing\n",
    "C[5]"
   ]
  },
  {
   "cell_type": "code",
   "execution_count": 16,
   "metadata": {},
   "outputs": [
    {
     "name": "stdout",
     "output_type": "stream",
     "text": [
      "torch.Size([32, 3, 2])\n"
     ]
    },
    {
     "data": {
      "text/plain": [
       "tensor([[[ 0.3584, -0.9612],\n",
       "         [ 0.3584, -0.9612],\n",
       "         [ 0.3584, -0.9612]],\n",
       "\n",
       "        [[ 0.3584, -0.9612],\n",
       "         [ 0.3584, -0.9612],\n",
       "         [-0.4377, -0.3447]],\n",
       "\n",
       "        [[ 0.3584, -0.9612],\n",
       "         [-0.4377, -0.3447],\n",
       "         [-0.2706, -0.2122]],\n",
       "\n",
       "        [[-0.4377, -0.3447],\n",
       "         [-0.2706, -0.2122],\n",
       "         [-0.2706, -0.2122]],\n",
       "\n",
       "        [[-0.2706, -0.2122],\n",
       "         [-0.2706, -0.2122],\n",
       "         [ 1.2209, -0.8173]],\n",
       "\n",
       "        [[ 0.3584, -0.9612],\n",
       "         [ 0.3584, -0.9612],\n",
       "         [ 0.3584, -0.9612]],\n",
       "\n",
       "        [[ 0.3584, -0.9612],\n",
       "         [ 0.3584, -0.9612],\n",
       "         [-0.8719, -2.2597]],\n",
       "\n",
       "        [[ 0.3584, -0.9612],\n",
       "         [-0.8719, -2.2597],\n",
       "         [ 1.7818,  0.5357]],\n",
       "\n",
       "        [[-0.8719, -2.2597],\n",
       "         [ 1.7818,  0.5357],\n",
       "         [-0.0758, -0.2195]],\n",
       "\n",
       "        [[ 1.7818,  0.5357],\n",
       "         [-0.0758, -0.2195],\n",
       "         [ 0.5136,  0.6045]],\n",
       "\n",
       "        [[-0.0758, -0.2195],\n",
       "         [ 0.5136,  0.6045],\n",
       "         [-0.0758, -0.2195]],\n",
       "\n",
       "        [[ 0.5136,  0.6045],\n",
       "         [-0.0758, -0.2195],\n",
       "         [ 1.2209, -0.8173]],\n",
       "\n",
       "        [[ 0.3584, -0.9612],\n",
       "         [ 0.3584, -0.9612],\n",
       "         [ 0.3584, -0.9612]],\n",
       "\n",
       "        [[ 0.3584, -0.9612],\n",
       "         [ 0.3584, -0.9612],\n",
       "         [ 1.2209, -0.8173]],\n",
       "\n",
       "        [[ 0.3584, -0.9612],\n",
       "         [ 1.2209, -0.8173],\n",
       "         [ 0.5136,  0.6045]],\n",
       "\n",
       "        [[ 1.2209, -0.8173],\n",
       "         [ 0.5136,  0.6045],\n",
       "         [ 1.2209, -0.8173]],\n",
       "\n",
       "        [[ 0.3584, -0.9612],\n",
       "         [ 0.3584, -0.9612],\n",
       "         [ 0.3584, -0.9612]],\n",
       "\n",
       "        [[ 0.3584, -0.9612],\n",
       "         [ 0.3584, -0.9612],\n",
       "         [-0.0758, -0.2195]],\n",
       "\n",
       "        [[ 0.3584, -0.9612],\n",
       "         [-0.0758, -0.2195],\n",
       "         [ 0.2307, -1.8185]],\n",
       "\n",
       "        [[-0.0758, -0.2195],\n",
       "         [ 0.2307, -1.8185],\n",
       "         [ 1.2209, -0.8173]],\n",
       "\n",
       "        [[ 0.2307, -1.8185],\n",
       "         [ 1.2209, -0.8173],\n",
       "         [ 1.0074,  0.4221]],\n",
       "\n",
       "        [[ 1.2209, -0.8173],\n",
       "         [ 1.0074,  0.4221],\n",
       "         [-0.4377, -0.3447]],\n",
       "\n",
       "        [[ 1.0074,  0.4221],\n",
       "         [-0.4377, -0.3447],\n",
       "         [ 1.7818,  0.5357]],\n",
       "\n",
       "        [[-0.4377, -0.3447],\n",
       "         [ 1.7818,  0.5357],\n",
       "         [ 1.7818,  0.5357]],\n",
       "\n",
       "        [[ 1.7818,  0.5357],\n",
       "         [ 1.7818,  0.5357],\n",
       "         [ 1.2209, -0.8173]],\n",
       "\n",
       "        [[ 0.3584, -0.9612],\n",
       "         [ 0.3584, -0.9612],\n",
       "         [ 0.3584, -0.9612]],\n",
       "\n",
       "        [[ 0.3584, -0.9612],\n",
       "         [ 0.3584, -0.9612],\n",
       "         [ 0.2307, -1.8185]],\n",
       "\n",
       "        [[ 0.3584, -0.9612],\n",
       "         [ 0.2307, -1.8185],\n",
       "         [-0.8719, -2.2597]],\n",
       "\n",
       "        [[ 0.2307, -1.8185],\n",
       "         [-0.8719, -2.2597],\n",
       "         [-0.1749,  0.5056]],\n",
       "\n",
       "        [[-0.8719, -2.2597],\n",
       "         [-0.1749,  0.5056],\n",
       "         [-2.6339, -0.0132]],\n",
       "\n",
       "        [[-0.1749,  0.5056],\n",
       "         [-2.6339, -0.0132],\n",
       "         [-0.0758, -0.2195]],\n",
       "\n",
       "        [[-2.6339, -0.0132],\n",
       "         [-0.0758, -0.2195],\n",
       "         [ 1.2209, -0.8173]]])"
      ]
     },
     "execution_count": 16,
     "metadata": {},
     "output_type": "execute_result"
    }
   ],
   "source": [
    "# the input X will be mapped into the C \n",
    "# and for every one of the 32,3 integers there is a 2 dimensional mapping in C\n",
    "emd = C[X] \n",
    "print(emd.shape)\n",
    "emd"
   ]
  },
  {
   "cell_type": "code",
   "execution_count": 17,
   "metadata": {},
   "outputs": [],
   "source": [
    "W1 = torch.randn((6, 100))\n",
    "b1 = torch.randn(100)"
   ]
  },
  {
   "cell_type": "code",
   "execution_count": 18,
   "metadata": {},
   "outputs": [
    {
     "data": {
      "text/plain": [
       "tensor([[ 0.3584, -0.9612,  0.3584, -0.9612,  0.3584, -0.9612],\n",
       "        [ 0.3584, -0.9612,  0.3584, -0.9612, -0.4377, -0.3447],\n",
       "        [ 0.3584, -0.9612, -0.4377, -0.3447, -0.2706, -0.2122],\n",
       "        [-0.4377, -0.3447, -0.2706, -0.2122, -0.2706, -0.2122],\n",
       "        [-0.2706, -0.2122, -0.2706, -0.2122,  1.2209, -0.8173],\n",
       "        [ 0.3584, -0.9612,  0.3584, -0.9612,  0.3584, -0.9612],\n",
       "        [ 0.3584, -0.9612,  0.3584, -0.9612, -0.8719, -2.2597],\n",
       "        [ 0.3584, -0.9612, -0.8719, -2.2597,  1.7818,  0.5357],\n",
       "        [-0.8719, -2.2597,  1.7818,  0.5357, -0.0758, -0.2195],\n",
       "        [ 1.7818,  0.5357, -0.0758, -0.2195,  0.5136,  0.6045],\n",
       "        [-0.0758, -0.2195,  0.5136,  0.6045, -0.0758, -0.2195],\n",
       "        [ 0.5136,  0.6045, -0.0758, -0.2195,  1.2209, -0.8173],\n",
       "        [ 0.3584, -0.9612,  0.3584, -0.9612,  0.3584, -0.9612],\n",
       "        [ 0.3584, -0.9612,  0.3584, -0.9612,  1.2209, -0.8173],\n",
       "        [ 0.3584, -0.9612,  1.2209, -0.8173,  0.5136,  0.6045],\n",
       "        [ 1.2209, -0.8173,  0.5136,  0.6045,  1.2209, -0.8173],\n",
       "        [ 0.3584, -0.9612,  0.3584, -0.9612,  0.3584, -0.9612],\n",
       "        [ 0.3584, -0.9612,  0.3584, -0.9612, -0.0758, -0.2195],\n",
       "        [ 0.3584, -0.9612, -0.0758, -0.2195,  0.2307, -1.8185],\n",
       "        [-0.0758, -0.2195,  0.2307, -1.8185,  1.2209, -0.8173],\n",
       "        [ 0.2307, -1.8185,  1.2209, -0.8173,  1.0074,  0.4221],\n",
       "        [ 1.2209, -0.8173,  1.0074,  0.4221, -0.4377, -0.3447],\n",
       "        [ 1.0074,  0.4221, -0.4377, -0.3447,  1.7818,  0.5357],\n",
       "        [-0.4377, -0.3447,  1.7818,  0.5357,  1.7818,  0.5357],\n",
       "        [ 1.7818,  0.5357,  1.7818,  0.5357,  1.2209, -0.8173],\n",
       "        [ 0.3584, -0.9612,  0.3584, -0.9612,  0.3584, -0.9612],\n",
       "        [ 0.3584, -0.9612,  0.3584, -0.9612,  0.2307, -1.8185],\n",
       "        [ 0.3584, -0.9612,  0.2307, -1.8185, -0.8719, -2.2597],\n",
       "        [ 0.2307, -1.8185, -0.8719, -2.2597, -0.1749,  0.5056],\n",
       "        [-0.8719, -2.2597, -0.1749,  0.5056, -2.6339, -0.0132],\n",
       "        [-0.1749,  0.5056, -2.6339, -0.0132, -0.0758, -0.2195],\n",
       "        [-2.6339, -0.0132, -0.0758, -0.2195,  1.2209, -0.8173]])"
      ]
     },
     "execution_count": 18,
     "metadata": {},
     "output_type": "execute_result"
    }
   ],
   "source": [
    "# torch.cat() concatenates two tensors and it can be done along two dimensions \n",
    "# if it is done using dim 0 -> along rows and using dim1 -> columns\n",
    "torch.cat([emd[:,0,:], emd[:,1,:], emd[:,2,:]], 1)"
   ]
  },
  {
   "cell_type": "code",
   "execution_count": 19,
   "metadata": {},
   "outputs": [
    {
     "data": {
      "text/plain": [
       "tensor([[ 0.3584, -0.9612,  0.3584, -0.9612,  0.3584, -0.9612],\n",
       "        [ 0.3584, -0.9612,  0.3584, -0.9612, -0.4377, -0.3447],\n",
       "        [ 0.3584, -0.9612, -0.4377, -0.3447, -0.2706, -0.2122],\n",
       "        [-0.4377, -0.3447, -0.2706, -0.2122, -0.2706, -0.2122],\n",
       "        [-0.2706, -0.2122, -0.2706, -0.2122,  1.2209, -0.8173],\n",
       "        [ 0.3584, -0.9612,  0.3584, -0.9612,  0.3584, -0.9612],\n",
       "        [ 0.3584, -0.9612,  0.3584, -0.9612, -0.8719, -2.2597],\n",
       "        [ 0.3584, -0.9612, -0.8719, -2.2597,  1.7818,  0.5357],\n",
       "        [-0.8719, -2.2597,  1.7818,  0.5357, -0.0758, -0.2195],\n",
       "        [ 1.7818,  0.5357, -0.0758, -0.2195,  0.5136,  0.6045],\n",
       "        [-0.0758, -0.2195,  0.5136,  0.6045, -0.0758, -0.2195],\n",
       "        [ 0.5136,  0.6045, -0.0758, -0.2195,  1.2209, -0.8173],\n",
       "        [ 0.3584, -0.9612,  0.3584, -0.9612,  0.3584, -0.9612],\n",
       "        [ 0.3584, -0.9612,  0.3584, -0.9612,  1.2209, -0.8173],\n",
       "        [ 0.3584, -0.9612,  1.2209, -0.8173,  0.5136,  0.6045],\n",
       "        [ 1.2209, -0.8173,  0.5136,  0.6045,  1.2209, -0.8173],\n",
       "        [ 0.3584, -0.9612,  0.3584, -0.9612,  0.3584, -0.9612],\n",
       "        [ 0.3584, -0.9612,  0.3584, -0.9612, -0.0758, -0.2195],\n",
       "        [ 0.3584, -0.9612, -0.0758, -0.2195,  0.2307, -1.8185],\n",
       "        [-0.0758, -0.2195,  0.2307, -1.8185,  1.2209, -0.8173],\n",
       "        [ 0.2307, -1.8185,  1.2209, -0.8173,  1.0074,  0.4221],\n",
       "        [ 1.2209, -0.8173,  1.0074,  0.4221, -0.4377, -0.3447],\n",
       "        [ 1.0074,  0.4221, -0.4377, -0.3447,  1.7818,  0.5357],\n",
       "        [-0.4377, -0.3447,  1.7818,  0.5357,  1.7818,  0.5357],\n",
       "        [ 1.7818,  0.5357,  1.7818,  0.5357,  1.2209, -0.8173],\n",
       "        [ 0.3584, -0.9612,  0.3584, -0.9612,  0.3584, -0.9612],\n",
       "        [ 0.3584, -0.9612,  0.3584, -0.9612,  0.2307, -1.8185],\n",
       "        [ 0.3584, -0.9612,  0.2307, -1.8185, -0.8719, -2.2597],\n",
       "        [ 0.2307, -1.8185, -0.8719, -2.2597, -0.1749,  0.5056],\n",
       "        [-0.8719, -2.2597, -0.1749,  0.5056, -2.6339, -0.0132],\n",
       "        [-0.1749,  0.5056, -2.6339, -0.0132, -0.0758, -0.2195],\n",
       "        [-2.6339, -0.0132, -0.0758, -0.2195,  1.2209, -0.8173]])"
      ]
     },
     "execution_count": 19,
     "metadata": {},
     "output_type": "execute_result"
    }
   ],
   "source": [
    "# but the above block's code is not generalised what if the \n",
    "# instead of .cat on the previous code ([emd[:,0,:], emd[:,1,:], emd[:,2,:]]), use .unbind which will remove one dimension \n",
    "# note -> but both this and the code in the previous block is inefficient \n",
    "torch.cat(torch.unbind(emd,1),1)"
   ]
  },
  {
   "cell_type": "code",
   "execution_count": 20,
   "metadata": {},
   "outputs": [],
   "source": [
    "# a.view can be used to manipulate the tensor if the elements of a remain same\n",
    "# a.storage() tells about how every tensor is stored in the computer\n",
    "\n",
    "#the efficient way is to just use .view when doing the forward pass\n",
    "#there is -1 because pytorch will determine itself what should be in here\n",
    "h = torch.tanh(emd.view(-1,6) @ W1 + b1)"
   ]
  },
  {
   "cell_type": "code",
   "execution_count": 21,
   "metadata": {},
   "outputs": [
    {
     "data": {
      "text/plain": [
       "tensor([[-0.9099, -0.9977,  0.3958,  ..., -0.9666,  0.7865,  0.8413],\n",
       "        [-0.2010, -0.9479,  0.7763,  ..., -0.7766, -0.6994,  0.9927],\n",
       "        [-0.9514, -0.8625,  0.7719,  ..., -0.1810, -0.3225,  0.7781],\n",
       "        ...,\n",
       "        [-0.2450,  1.0000,  0.9989,  ...,  0.2693, -0.9981,  0.9944],\n",
       "        [-0.9982,  0.6001, -0.8255,  ...,  0.7591,  0.9761, -0.9695],\n",
       "        [-0.9665,  0.9998, -0.8678,  ..., -0.9996,  0.9732, -0.9989]])"
      ]
     },
     "execution_count": 21,
     "metadata": {},
     "output_type": "execute_result"
    }
   ],
   "source": [
    "h"
   ]
  },
  {
   "cell_type": "code",
   "execution_count": 22,
   "metadata": {},
   "outputs": [
    {
     "data": {
      "text/plain": [
       "torch.Size([32, 100])"
      ]
     },
     "execution_count": 22,
     "metadata": {},
     "output_type": "execute_result"
    }
   ],
   "source": [
    "h.shape"
   ]
  },
  {
   "cell_type": "code",
   "execution_count": 44,
   "metadata": {},
   "outputs": [],
   "source": [
    "# forward pass \n",
    "logits = h @ W2 + b2\n"
   ]
  },
  {
   "cell_type": "code",
   "execution_count": 28,
   "metadata": {},
   "outputs": [],
   "source": [
    "#final layer's parameter\n",
    "W2 = torch.randn((100,27))\n",
    "b2 = torch.randn(27)"
   ]
  },
  {
   "cell_type": "code",
   "execution_count": 42,
   "metadata": {},
   "outputs": [],
   "source": [
    " # implement softmax\n",
    "counts =  logits.exp()\n",
    "prob = counts/counts.sum(dim=1,keepdims=True)\n"
   ]
  },
  {
   "cell_type": "code",
   "execution_count": 43,
   "metadata": {},
   "outputs": [
    {
     "data": {
      "text/plain": [
       "tensor(17.0709)"
      ]
     },
     "execution_count": 43,
     "metadata": {},
     "output_type": "execute_result"
    }
   ],
   "source": [
    "# each row of Y there will be prob assigned in prob to the correct character\n",
    "# so pluck out that prob , y is the index of the target characters\n",
    "# the torch.arange() helps to index the rows and then the pluck out the prob corresponding to Y\n",
    "loss = -prob[torch.arange(32),Y].log().mean()\n",
    "loss\n"
   ]
  },
  {
   "cell_type": "code",
   "execution_count": 45,
   "metadata": {},
   "outputs": [],
   "source": [
    "# ------------ now made respectable :) ---------------"
   ]
  },
  {
   "cell_type": "code",
   "execution_count": 114,
   "metadata": {},
   "outputs": [],
   "source": [
    "g = torch.Generator().manual_seed(2147483647) \n",
    "# these are all the parameters that were used\n",
    "C = torch.randn((27, 2), generator=g)\n",
    "W1 = torch.randn((6, 100), generator=g)\n",
    "b1 = torch.randn(100, generator=g)\n",
    "W2 = torch.randn((100, 27), generator=g)\n",
    "b2 = torch.randn(27, generator=g)\n",
    "parameters = [C, W1, b1, W2, b2]"
   ]
  },
  {
   "cell_type": "code",
   "execution_count": 54,
   "metadata": {},
   "outputs": [
    {
     "data": {
      "text/plain": [
       "3481"
      ]
     },
     "execution_count": 54,
     "metadata": {},
     "output_type": "execute_result"
    }
   ],
   "source": [
    "sum(p.nelement() for p in parameters) # number of parameters in total"
   ]
  },
  {
   "cell_type": "code",
   "execution_count": 66,
   "metadata": {},
   "outputs": [
    {
     "data": {
      "text/plain": [
       "tensor(17.7697)"
      ]
     },
     "execution_count": 66,
     "metadata": {},
     "output_type": "execute_result"
    }
   ],
   "source": [
    "emd = C[X] #(32,3,2)\n",
    "h = torch.tanh(emd.view(-1,6) @ W1 + b1) #32,100\n",
    "logits = h @ W2 + b2#32,27\n",
    "counts = logits.exp()\n",
    "prob = counts/counts.sum(dim = 1, keepdim=True)\n",
    "loss = -prob[torch.arange(32),Y].log().mean()\n",
    "loss"
   ]
  },
  {
   "cell_type": "code",
   "execution_count": 87,
   "metadata": {},
   "outputs": [
    {
     "data": {
      "text/plain": [
       "tensor(17.7697)"
      ]
     },
     "execution_count": 87,
     "metadata": {},
     "output_type": "execute_result"
    }
   ],
   "source": [
    "# using F.cross_entropy() has more benifits than manualy applying the cross entropy function\n",
    "# one of the advantages is that it is numerically well behaved\n",
    "loss = F.cross_entropy(logits,Y)\n",
    "loss"
   ]
  },
  {
   "cell_type": "code",
   "execution_count": 115,
   "metadata": {},
   "outputs": [],
   "source": [
    "for p in parameters:\n",
    "    p.requires_grad=True"
   ]
  },
  {
   "cell_type": "code",
   "execution_count": 98,
   "metadata": {},
   "outputs": [],
   "source": [
    "#always remeber to set the gradient to 0 before applying the backward pass"
   ]
  },
  {
   "cell_type": "code",
   "execution_count": 119,
   "metadata": {},
   "outputs": [
    {
     "data": {
      "text/plain": [
       "torch.Size([228146, 3])"
      ]
     },
     "execution_count": 119,
     "metadata": {},
     "output_type": "execute_result"
    }
   ],
   "source": [
    "X.shape"
   ]
  },
  {
   "cell_type": "code",
   "execution_count": 117,
   "metadata": {},
   "outputs": [
    {
     "name": "stdout",
     "output_type": "stream",
     "text": [
      "0.25564074516296387\n"
     ]
    }
   ],
   "source": [
    "for _ in range(1000):\n",
    "        #forward pass\n",
    "    emd = C[X] #(32,3,2)\n",
    "    h = torch.tanh(emd.view(-1,6) @ W1 + b1) #32,100\n",
    "    logits = h @ W2 + b2#32,27\n",
    "    \n",
    "    \n",
    "    # setting gradients = 0\n",
    "    for p in parameters:\n",
    "        p.grad = None\n",
    "    #backward pass\n",
    "    loss.backward()\n",
    "    #update\n",
    "    for p in parameters:\n",
    "        p.data += -0.1 * p.grad\n",
    "print(loss.item())"
   ]
  },
  {
   "cell_type": "code",
   "execution_count": null,
   "metadata": {},
   "outputs": [],
   "source": [
    "# for whole dataset and determining the learning rate--------> "
   ]
  },
  {
   "cell_type": "code",
   "execution_count": 188,
   "metadata": {},
   "outputs": [],
   "source": [
    "g = torch.Generator().manual_seed(2147483647) \n",
    "# these are all the parameters that were used\n",
    "C = torch.randn((27, 2), generator=g)\n",
    "W1 = torch.randn((6, 100), generator=g)\n",
    "b1 = torch.randn(100, generator=g)\n",
    "W2 = torch.randn((100, 27), generator=g)\n",
    "b2 = torch.randn(27, generator=g)\n",
    "parameters = [C, W1, b1, W2, b2]"
   ]
  },
  {
   "cell_type": "code",
   "execution_count": 189,
   "metadata": {},
   "outputs": [],
   "source": [
    "#note -> the dataset before was of only 5 examples but here it is for whole dataset\n",
    "#and i left the above one for visualising how the building of the dataset works\n",
    "# build the dataset\n",
    "\n",
    "block_size = 3 # context length: how many characters do we take to predict the next one?\n",
    "X, Y = [], []\n",
    "for w in words:\n",
    "  \n",
    "  #print(w)\n",
    "  context = [0] * block_size\n",
    "  for ch in w + '.':\n",
    "    ix = stoi[ch]\n",
    "    X.append(context)\n",
    "    Y.append(ix)\n",
    "    #print(''.join(itos[i] for i in context), '--->', itos[ix])\n",
    "    context = context[1:] + [ix] # crop and append\n",
    "  \n",
    "X = torch.tensor(X)\n",
    "Y = torch.tensor(Y)"
   ]
  },
  {
   "cell_type": "code",
   "execution_count": 190,
   "metadata": {},
   "outputs": [],
   "source": [
    "for p in parameters:\n",
    "    p.requires_grad=True"
   ]
  },
  {
   "cell_type": "code",
   "execution_count": 191,
   "metadata": {},
   "outputs": [],
   "source": [
    "# trying to get a perfect learning rate\n",
    "lre = torch.linspace(-3,0,1000)\n",
    "lrs = 10**lre"
   ]
  },
  {
   "cell_type": "code",
   "execution_count": 200,
   "metadata": {},
   "outputs": [
    {
     "name": "stdout",
     "output_type": "stream",
     "text": [
      "2.105865716934204\n"
     ]
    }
   ],
   "source": [
    "lossi = []\n",
    "lri = []\n",
    "\n",
    "for i in range(10000):\n",
    "    #so the now the X has 228146 values so converting the whole dataset into batches will work\n",
    "    #construcing mini batch\n",
    "    ix = torch.randint(0,X.shape[0],(32,))\n",
    "    #forward pass\n",
    "    emd = C[X[ix]] #(32,3,2)\n",
    "    h = torch.tanh(emd.view(-1,6) @ W1 + b1) #32,100\n",
    "    logits = h @ W2 + b2#32,27\n",
    "    loss = F.cross_entropy(logits,Y[ix])\n",
    "    \n",
    "    \n",
    "    \n",
    "    # setting gradients = 0\n",
    "    for p in parameters:\n",
    "        p.grad = None\n",
    "\n",
    "    #backward pass\n",
    "    loss.backward()\n",
    "    #update\n",
    "    # determined that 0.1 is good learning rate\n",
    "    # now doing learning rate decaty turn 0.1 into 0.01\n",
    "    lr = 0.01\n",
    "    for p in parameters:\n",
    "        p.data += -lr * p.grad\n",
    "    #track status\n",
    "    #lri.append(lre[i])\n",
    "    #lossi.append(loss.item())\n",
    "\n",
    "print(loss.item())\n"
   ]
  },
  {
   "cell_type": "code",
   "execution_count": 201,
   "metadata": {},
   "outputs": [
    {
     "data": {
      "text/plain": [
       "tensor(2.3901, grad_fn=<NllLossBackward0>)"
      ]
     },
     "execution_count": 201,
     "metadata": {},
     "output_type": "execute_result"
    }
   ],
   "source": [
    "# loss for the whole dataset\n",
    "emb = C[X] # (32, 3, 2)\n",
    "h = torch.tanh(emb.view(-1, 6) @ W1 + b1) # (32, 100)\n",
    "logits = h @ W2 + b2 # (32, 27)\n",
    "loss = F.cross_entropy(logits, Y)\n",
    "loss"
   ]
  },
  {
   "cell_type": "code",
   "execution_count": null,
   "metadata": {},
   "outputs": [],
   "source": [
    "# spliting the dataset into 3 parts -> training set(80%), validation/dev set(10%), test set (10%)----->"
   ]
  },
  {
   "cell_type": "code",
   "execution_count": 207,
   "metadata": {},
   "outputs": [
    {
     "name": "stdout",
     "output_type": "stream",
     "text": [
      "torch.Size([182441, 3]) torch.Size([182441])\n",
      "torch.Size([22902, 3]) torch.Size([22902])\n",
      "torch.Size([22803, 3]) torch.Size([22803])\n"
     ]
    }
   ],
   "source": [
    "# build the dataset\n",
    "block_size = 3 # context length: how many characters do we take to predict the next one?\n",
    "\n",
    "def build_dataset(words):\n",
    "  X, Y = [], []\n",
    "  for w in words:\n",
    "\n",
    "    #print(w)\n",
    "    context = [0] * block_size\n",
    "    for ch in w + '.':\n",
    "      ix = stoi[ch]\n",
    "      X.append(context)\n",
    "      Y.append(ix)\n",
    "      #print(''.join(itos[i] for i in context), '--->', itos[ix])\n",
    "      context = context[1:] + [ix] # crop and append\n",
    "\n",
    "  X = torch.tensor(X)\n",
    "  Y = torch.tensor(Y)\n",
    "  print(X.shape, Y.shape)\n",
    "  return X, Y\n",
    "\n",
    "import random\n",
    "random.seed(42)\n",
    "random.shuffle(words)\n",
    "n1 = int(0.8 * len(words))\n",
    "n2 = int(0.9 * len(words))\n",
    "Xtr, Ytr = build_dataset(words[:n1])\n",
    "Xdev, Ydev = build_dataset(words[n1:n2])\n",
    "Xte, Yte = build_dataset(words[n2:])\n",
    "\n"
   ]
  },
  {
   "cell_type": "code",
   "execution_count": 208,
   "metadata": {},
   "outputs": [],
   "source": [
    "\n",
    "for i in range(10000):\n",
    "\n",
    "    ix = torch.randint(0,Xtr.shape[0],(32,))\n",
    "    #forward pass\n",
    "    emd = C[Xtr[ix]] #(32,3,2)\n",
    "    h = torch.tanh(emd.view(-1,6) @ W1 + b1) #32,100\n",
    "    logits = h @ W2 + b2#32,27\n",
    "    loss = F.cross_entropy(logits,Ytr[ix])\n",
    "    \n",
    "    \n",
    "    \n",
    "    # setting gradients = 0\n",
    "    for p in parameters:\n",
    "        p.grad = None\n",
    "\n",
    "    #backward pass\n",
    "    loss.backward()\n",
    "    \n",
    "    #update\n",
    "    \n",
    "    lr = 0.1\n",
    "    for p in parameters:\n",
    "        p.data += -lr * p.grad\n",
    "   \n"
   ]
  },
  {
   "cell_type": "code",
   "execution_count": 210,
   "metadata": {},
   "outputs": [
    {
     "data": {
      "text/plain": [
       "tensor(2.4274, grad_fn=<NllLossBackward0>)"
      ]
     },
     "execution_count": 210,
     "metadata": {},
     "output_type": "execute_result"
    }
   ],
   "source": [
    "# loss for the whole dataset\n",
    "emb = C[Xtr] # (32, 3, 2)\n",
    "h = torch.tanh(emb.view(-1, 6) @ W1 + b1) # (32, 100)\n",
    "logits = h @ W2 + b2 # (32, 27)\n",
    "loss = F.cross_entropy(logits, Ytr)\n",
    "loss"
   ]
  },
  {
   "cell_type": "code",
   "execution_count": 211,
   "metadata": {},
   "outputs": [
    {
     "data": {
      "text/plain": [
       "tensor(2.4347, grad_fn=<NllLossBackward0>)"
      ]
     },
     "execution_count": 211,
     "metadata": {},
     "output_type": "execute_result"
    }
   ],
   "source": [
    "# loss for the dev dataset\n",
    "emb = C[Xdev] # (32, 3, 2)\n",
    "h = torch.tanh(emb.view(-1, 6) @ W1 + b1) # (32, 100)\n",
    "logits = h @ W2 + b2 # (32, 27)\n",
    "loss = F.cross_entropy(logits, Ydev)\n",
    "loss"
   ]
  },
  {
   "cell_type": "code",
   "execution_count": 212,
   "metadata": {},
   "outputs": [
    {
     "data": {
      "image/png": "[encoded data removed]",
      "text/plain": [
       "<Figure size 800x800 with 1 Axes>"
      ]
     },
     "metadata": {},
     "output_type": "display_data"
    }
   ],
   "source": [
    "# visualize dimensions 0 and 1 of the embedding matrix C for all characters\n",
    "plt.figure(figsize=(8,8))\n",
    "plt.scatter(C[:,0].data, C[:,1].data, s=200)\n",
    "for i in range(C.shape[0]):\n",
    "    plt.text(C[i,0].item(), C[i,1].item(), itos[i], ha=\"center\", va=\"center\", color='white')\n",
    "plt.grid('minor')"
   ]
  },
  {
   "cell_type": "code",
   "execution_count": 213,
   "metadata": {},
   "outputs": [],
   "source": [
    "# the model turned out to be overfitted because the model is too small\n",
    "# so the next step is increasing the model size(hidden layer and the C)\n",
    "g = torch.Generator().manual_seed(2147483647) # for reproducibility\n",
    "C = torch.randn((27, 10), generator=g)\n",
    "W1 = torch.randn((30, 200), generator=g)\n",
    "b1 = torch.randn(200, generator=g)\n",
    "W2 = torch.randn((200, 27), generator=g)\n",
    "b2 = torch.randn(27, generator=g)\n",
    "parameters = [C, W1, b1, W2, b2]"
   ]
  },
  {
   "cell_type": "code",
   "execution_count": 216,
   "metadata": {},
   "outputs": [
    {
     "ename": "TypeError",
     "evalue": "'Tensor' object is not callable",
     "output_type": "error",
     "traceback": [
      "\u001b[0;31m---------------------------------------------------------------------------\u001b[0m",
      "\u001b[0;31mTypeError\u001b[0m                                 Traceback (most recent call last)",
      "Cell \u001b[0;32mIn[216], line 1\u001b[0m\n\u001b[0;32m----> 1\u001b[0m \u001b[38;5;28;43msum\u001b[39;49m\u001b[43m(\u001b[49m\u001b[43mp\u001b[49m\u001b[38;5;241;43m.\u001b[39;49m\u001b[43mnelement\u001b[49m\u001b[43m(\u001b[49m\u001b[43m)\u001b[49m\u001b[43m \u001b[49m\u001b[38;5;28;43;01mfor\u001b[39;49;00m\u001b[43m \u001b[49m\u001b[43mp\u001b[49m\u001b[43m \u001b[49m\u001b[38;5;129;43;01min\u001b[39;49;00m\u001b[43m \u001b[49m\u001b[43mparameters\u001b[49m\u001b[43m)\u001b[49m \u001b[38;5;66;03m# number of parameters in total\u001b[39;00m\n",
      "\u001b[0;31mTypeError\u001b[0m: 'Tensor' object is not callable"
     ]
    }
   ],
   "source": [
    "sum(p.nelement() for p in parameters) # number of parameters in total"
   ]
  },
  {
   "cell_type": "code",
   "execution_count": 217,
   "metadata": {},
   "outputs": [],
   "source": [
    "for p in parameters:\n",
    "  p.requires_grad = True"
   ]
  },
  {
   "cell_type": "code",
   "execution_count": 218,
   "metadata": {},
   "outputs": [],
   "source": [
    "lri = []\n",
    "lossi = []\n",
    "stepi = []"
   ]
  },
  {
   "cell_type": "code",
   "execution_count": 219,
   "metadata": {},
   "outputs": [],
   "source": [
    "for i in range(200000):\n",
    "  \n",
    "  # minibatch construct\n",
    "  ix = torch.randint(0, Xtr.shape[0], (32,))\n",
    "  \n",
    "  # forward pass\n",
    "  emb = C[Xtr[ix]] # (32, 3, 2)\n",
    "  h = torch.tanh(emb.view(-1, 30) @ W1 + b1) # (32, 100)\n",
    "  logits = h @ W2 + b2 # (32, 27)\n",
    "  loss = F.cross_entropy(logits, Ytr[ix])\n",
    "  #print(loss.item())\n",
    "  \n",
    "  # backward pass\n",
    "  for p in parameters:\n",
    "    p.grad = None\n",
    "  loss.backward()\n",
    "  \n",
    "  # update\n",
    "  #lr = lrs[i]\n",
    "  lr = 0.1 if i < 100000 else 0.01\n",
    "  for p in parameters:\n",
    "    p.data += -lr * p.grad\n",
    "\n",
    "  # track stats\n",
    "  #lri.append(lre[i])\n",
    "  stepi.append(i)\n",
    "  lossi.append(loss.log10().item())\n",
    "\n",
    "#print(loss.item())"
   ]
  },
  {
   "cell_type": "code",
   "execution_count": 220,
   "metadata": {},
   "outputs": [
    {
     "data": {
      "text/plain": [
       "[<matplotlib.lines.Line2D at 0x127554dd0>]"
      ]
     },
     "execution_count": 220,
     "metadata": {},
     "output_type": "execute_result"
    },
    {
     "data": {
      "image/png": "[encoded data removed]",
      "text/plain": [
       "<Figure size 640x480 with 1 Axes>"
      ]
     },
     "metadata": {},
     "output_type": "display_data"
    }
   ],
   "source": [
    "plt.plot(stepi, lossi)"
   ]
  },
  {
   "cell_type": "code",
   "execution_count": 221,
   "metadata": {},
   "outputs": [
    {
     "data": {
      "text/plain": [
       "tensor(2.1152, grad_fn=<NllLossBackward0>)"
      ]
     },
     "execution_count": 221,
     "metadata": {},
     "output_type": "execute_result"
    }
   ],
   "source": [
    "# training loss \n",
    "emb = C[Xtr] # (32, 3, 2)\n",
    "h = torch.tanh(emb.view(-1, 30) @ W1 + b1) # (32, 100)\n",
    "logits = h @ W2 + b2 # (32, 27)\n",
    "loss = F.cross_entropy(logits, Ytr)\n",
    "loss"
   ]
  },
  {
   "cell_type": "code",
   "execution_count": 222,
   "metadata": {},
   "outputs": [
    {
     "data": {
      "text/plain": [
       "tensor(2.1617, grad_fn=<NllLossBackward0>)"
      ]
     },
     "execution_count": 222,
     "metadata": {},
     "output_type": "execute_result"
    }
   ],
   "source": [
    "# validation loss\n",
    "emb = C[Xdev] # (32, 3, 2)\n",
    "h = torch.tanh(emb.view(-1, 30) @ W1 + b1) # (32, 100)\n",
    "logits = h @ W2 + b2 # (32, 27)\n",
    "loss = F.cross_entropy(logits, Ydev)\n",
    "loss"
   ]
  },
  {
   "cell_type": "code",
   "execution_count": 223,
   "metadata": {},
   "outputs": [
    {
     "data": {
      "text/plain": [
       "tensor(2.1639, grad_fn=<NllLossBackward0>)"
      ]
     },
     "execution_count": 223,
     "metadata": {},
     "output_type": "execute_result"
    }
   ],
   "source": [
    "# test loss\n",
    "emb = C[Xte] # (32, 3, 2)\n",
    "h = torch.tanh(emb.view(-1, 30) @ W1 + b1) # (32, 100)\n",
    "logits = h @ W2 + b2 # (32, 27)\n",
    "loss = F.cross_entropy(logits, Yte)\n",
    "loss"
   ]
  },
  {
   "cell_type": "code",
   "execution_count": 224,
   "metadata": {},
   "outputs": [
    {
     "data": {
      "image/png": "[encoded data removed]",
      "text/plain": [
       "<Figure size 800x800 with 1 Axes>"
      ]
     },
     "metadata": {},
     "output_type": "display_data"
    }
   ],
   "source": [
    "# visualize dimensions 0 and 1 of the embedding matrix C for all characters\n",
    "plt.figure(figsize=(8,8))\n",
    "plt.scatter(C[:,0].data, C[:,1].data, s=200)\n",
    "for i in range(C.shape[0]):\n",
    "    plt.text(C[i,0].item(), C[i,1].item(), itos[i], ha=\"center\", va=\"center\", color='white')\n",
    "plt.grid('minor')"
   ]
  },
  {
   "cell_type": "markdown",
   "metadata": {},
   "source": [
    "#### so this was kind  of a playground where i took notes and and repeated the code many times for every modification\n",
    "\n",
    "#### so i will attach another file by karpathy himself in which there is only the required code and **SAMPLING** too"
   ]
  },
  {
   "cell_type": "markdown",
   "metadata": {},
   "source": []
  },
  {
   "cell_type": "code",
   "execution_count": null,
   "metadata": {},
   "outputs": [],
   "source": []
  }
 ],
 "metadata": {
  "kernelspec": {
   "display_name": ".venv",
   "language": "python",
   "name": "python3"
  },
  "language_info": {
   "codemirror_mode": {
    "name": "ipython",
    "version": 3
   },
   "file_extension": ".py",
   "mimetype": "text/x-python",
   "name": "python",
   "nbconvert_exporter": "python",
   "pygments_lexer": "ipython3",
   "version": "3.11.3"
  }
 },
 "nbformat": 4,
 "nbformat_minor": 2
}
