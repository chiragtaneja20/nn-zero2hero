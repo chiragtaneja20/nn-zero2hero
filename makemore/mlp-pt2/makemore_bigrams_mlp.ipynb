{
 "cells": [
  {
   "cell_type": "code",
   "execution_count": 1,
   "metadata": {},
   "outputs": [],
   "source": [
    "import torch\n",
    "import torch.nn.functional as F\n",
    "import matplotlib.pyplot as plt"
   ]
  },
  {
   "cell_type": "code",
   "execution_count": 4,
   "metadata": {},
   "outputs": [
    {
     "data": {
      "text/plain": [
       "['emma',\n",
       " 'olivia',\n",
       " 'ava',\n",
       " 'isabella',\n",
       " 'sophia',\n",
       " 'charlotte',\n",
       " 'mia',\n",
       " 'amelia',\n",
       " 'harper',\n",
       " 'evelyn']"
      ]
     },
     "execution_count": 4,
     "metadata": {},
     "output_type": "execute_result"
    }
   ],
   "source": [
    "#read in all the words and store the word as the list\n",
    "words = open('Names(1).txt', 'r').read().splitlines()\n",
    "words[:10]"
   ]
  },
  {
   "cell_type": "code",
   "execution_count": 15,
   "metadata": {},
   "outputs": [
    {
     "data": {
      "text/plain": [
       "{'a': 1,\n",
       " 'b': 2,\n",
       " 'c': 3,\n",
       " 'd': 4,\n",
       " 'e': 5,\n",
       " 'f': 6,\n",
       " 'g': 7,\n",
       " 'h': 8,\n",
       " 'i': 9,\n",
       " 'j': 10,\n",
       " 'k': 11,\n",
       " 'l': 12,\n",
       " 'm': 13,\n",
       " 'n': 14,\n",
       " 'o': 15,\n",
       " 'p': 16,\n",
       " 'q': 17,\n",
       " 'r': 18,\n",
       " 's': 19,\n",
       " 't': 20,\n",
       " 'u': 21,\n",
       " 'v': 22,\n",
       " 'w': 23,\n",
       " 'x': 24,\n",
       " 'y': 25,\n",
       " 'z': 26,\n",
       " '.': 0}"
      ]
     },
     "execution_count": 15,
     "metadata": {},
     "output_type": "execute_result"
    }
   ],
   "source": [
    "# build the vocabulary of characters and mappings to/from integers\n",
    "chars = sorted(list(set(''.join(words))))\n",
    "stoi = {s:i+1 for i,s in enumerate(chars)}\n",
    "stoi['.'] = 0\n",
    "itos = {i:s for s,i in stoi.items()}\n",
    "\n",
    "stoi"
   ]
  },
  {
   "cell_type": "code",
   "execution_count": 56,
   "metadata": {},
   "outputs": [
    {
     "name": "stdout",
     "output_type": "stream",
     "text": [
      "emma\n",
      "... ----> e\n",
      "..e ----> m\n",
      ".em ----> m\n",
      "emm ----> a\n",
      "mma ----> .\n",
      "olivia\n",
      "... ----> o\n",
      "..o ----> l\n",
      ".ol ----> i\n",
      "oli ----> v\n",
      "liv ----> i\n",
      "ivi ----> a\n",
      "via ----> .\n",
      "ava\n",
      "... ----> a\n",
      "..a ----> v\n",
      ".av ----> a\n",
      "ava ----> .\n",
      "isabella\n",
      "... ----> i\n",
      "..i ----> s\n",
      ".is ----> a\n",
      "isa ----> b\n",
      "sab ----> e\n",
      "abe ----> l\n",
      "bel ----> l\n",
      "ell ----> a\n",
      "lla ----> .\n",
      "sophia\n",
      "... ----> s\n",
      "..s ----> o\n",
      ".so ----> p\n",
      "sop ----> h\n",
      "oph ----> i\n",
      "phi ----> a\n",
      "hia ----> .\n"
     ]
    }
   ],
   "source": [
    "#creating the dataset\n",
    "block_size = 3 #context length: how many characters do we take to predict the next one\n",
    "X=[]\n",
    "Y=[]\n",
    "\n",
    "for w in words[:5]:\n",
    "    print(w)\n",
    "    context = [0]*block_size\n",
    "    for ch in w + '.':\n",
    "        ix = stoi[ch]\n",
    "        X.append(context)\n",
    "        Y.append(ix)\n",
    "        print(''.join(itos[i] for i in context), '---->',itos[ix])\n",
    "        context =context[1:] + [ix] #crop and append\n",
    "\n",
    "X = torch.tensor(X)\n",
    "Y = torch.tensor(Y)"
   ]
  },
  {
   "cell_type": "code",
   "execution_count": 57,
   "metadata": {},
   "outputs": [
    {
     "data": {
      "text/plain": [
       "(torch.Size([32, 3]), torch.int64, torch.Size([32]), torch.int64)"
      ]
     },
     "execution_count": 57,
     "metadata": {},
     "output_type": "execute_result"
    }
   ],
   "source": [
    "X.shape,X.dtype,Y.shape,Y.dtype"
   ]
  },
  {
   "cell_type": "code",
   "execution_count": 58,
   "metadata": {},
   "outputs": [
    {
     "data": {
      "text/plain": [
       "tensor([[ 0.7381,  1.2096],\n",
       "        [-1.4430,  0.9061],\n",
       "        [-0.1986,  0.3821],\n",
       "        [ 0.5676,  0.2617],\n",
       "        [-0.9786,  0.7904],\n",
       "        [-0.5567,  0.9380],\n",
       "        [-0.7443, -0.9084],\n",
       "        [ 0.3740, -0.1111],\n",
       "        [ 0.2628, -0.0145],\n",
       "        [ 1.4126, -0.8491],\n",
       "        [-3.0383,  1.1061],\n",
       "        [-0.6043,  0.9892],\n",
       "        [ 1.1731, -0.3887],\n",
       "        [ 0.3784,  1.1381],\n",
       "        [-1.4229,  1.1972],\n",
       "        [-0.4143, -1.0254],\n",
       "        [-1.6760,  1.1273],\n",
       "        [ 0.3584, -0.8080],\n",
       "        [ 0.7452,  0.1732],\n",
       "        [-0.9683, -0.9825],\n",
       "        [-1.4335,  0.0485],\n",
       "        [-0.8063, -1.6118],\n",
       "        [-2.0905, -0.7433],\n",
       "        [ 0.9798,  1.1296],\n",
       "        [-2.5378,  0.5113],\n",
       "        [-0.8040,  0.3486],\n",
       "        [-0.3814, -1.6283]])"
      ]
     },
     "execution_count": 58,
     "metadata": {},
     "output_type": "execute_result"
    }
   ],
   "source": [
    "C = torch.randn(27,2)\n",
    "C"
   ]
  },
  {
   "cell_type": "code",
   "execution_count": 59,
   "metadata": {},
   "outputs": [],
   "source": [
    "HOT = F.one_hot(torch.tensor(5),num_classes = 27).float()"
   ]
  },
  {
   "cell_type": "code",
   "execution_count": 60,
   "metadata": {},
   "outputs": [
    {
     "name": "stdout",
     "output_type": "stream",
     "text": [
      "tensor([0., 0., 0., 0., 0., 1., 0., 0., 0., 0., 0., 0., 0., 0., 0., 0., 0., 0.,\n",
      "        0., 0., 0., 0., 0., 0., 0., 0., 0.])\n"
     ]
    }
   ],
   "source": [
    "print(HOT)"
   ]
  },
  {
   "cell_type": "code",
   "execution_count": 61,
   "metadata": {},
   "outputs": [
    {
     "data": {
      "text/plain": [
       "tensor([-0.5567,  0.9380])"
      ]
     },
     "execution_count": 61,
     "metadata": {},
     "output_type": "execute_result"
    }
   ],
   "source": [
    "# for intuition -> this was because only the 5th place of the HOT vector was non zero\n",
    "# so the result was simply the 5th row of the vector C\n",
    "HOT @ C"
   ]
  },
  {
   "cell_type": "code",
   "execution_count": 62,
   "metadata": {},
   "outputs": [
    {
     "data": {
      "text/plain": [
       "tensor([-0.5567,  0.9380])"
      ]
     },
     "execution_count": 62,
     "metadata": {},
     "output_type": "execute_result"
    }
   ],
   "source": [
    "# or just use simple indexing\n",
    "C[5]"
   ]
  },
  {
   "cell_type": "code",
   "execution_count": 63,
   "metadata": {},
   "outputs": [
    {
     "name": "stdout",
     "output_type": "stream",
     "text": [
      "torch.Size([32, 3, 2])\n"
     ]
    },
    {
     "data": {
      "text/plain": [
       "tensor([[[ 0.7381,  1.2096],\n",
       "         [ 0.7381,  1.2096],\n",
       "         [ 0.7381,  1.2096]],\n",
       "\n",
       "        [[ 0.7381,  1.2096],\n",
       "         [ 0.7381,  1.2096],\n",
       "         [-0.5567,  0.9380]],\n",
       "\n",
       "        [[ 0.7381,  1.2096],\n",
       "         [-0.5567,  0.9380],\n",
       "         [ 0.3784,  1.1381]],\n",
       "\n",
       "        [[-0.5567,  0.9380],\n",
       "         [ 0.3784,  1.1381],\n",
       "         [ 0.3784,  1.1381]],\n",
       "\n",
       "        [[ 0.3784,  1.1381],\n",
       "         [ 0.3784,  1.1381],\n",
       "         [-1.4430,  0.9061]],\n",
       "\n",
       "        [[ 0.7381,  1.2096],\n",
       "         [ 0.7381,  1.2096],\n",
       "         [ 0.7381,  1.2096]],\n",
       "\n",
       "        [[ 0.7381,  1.2096],\n",
       "         [ 0.7381,  1.2096],\n",
       "         [-0.4143, -1.0254]],\n",
       "\n",
       "        [[ 0.7381,  1.2096],\n",
       "         [-0.4143, -1.0254],\n",
       "         [ 1.1731, -0.3887]],\n",
       "\n",
       "        [[-0.4143, -1.0254],\n",
       "         [ 1.1731, -0.3887],\n",
       "         [ 1.4126, -0.8491]],\n",
       "\n",
       "        [[ 1.1731, -0.3887],\n",
       "         [ 1.4126, -0.8491],\n",
       "         [-2.0905, -0.7433]],\n",
       "\n",
       "        [[ 1.4126, -0.8491],\n",
       "         [-2.0905, -0.7433],\n",
       "         [ 1.4126, -0.8491]],\n",
       "\n",
       "        [[-2.0905, -0.7433],\n",
       "         [ 1.4126, -0.8491],\n",
       "         [-1.4430,  0.9061]],\n",
       "\n",
       "        [[ 0.7381,  1.2096],\n",
       "         [ 0.7381,  1.2096],\n",
       "         [ 0.7381,  1.2096]],\n",
       "\n",
       "        [[ 0.7381,  1.2096],\n",
       "         [ 0.7381,  1.2096],\n",
       "         [-1.4430,  0.9061]],\n",
       "\n",
       "        [[ 0.7381,  1.2096],\n",
       "         [-1.4430,  0.9061],\n",
       "         [-2.0905, -0.7433]],\n",
       "\n",
       "        [[-1.4430,  0.9061],\n",
       "         [-2.0905, -0.7433],\n",
       "         [-1.4430,  0.9061]],\n",
       "\n",
       "        [[ 0.7381,  1.2096],\n",
       "         [ 0.7381,  1.2096],\n",
       "         [ 0.7381,  1.2096]],\n",
       "\n",
       "        [[ 0.7381,  1.2096],\n",
       "         [ 0.7381,  1.2096],\n",
       "         [ 1.4126, -0.8491]],\n",
       "\n",
       "        [[ 0.7381,  1.2096],\n",
       "         [ 1.4126, -0.8491],\n",
       "         [-0.9683, -0.9825]],\n",
       "\n",
       "        [[ 1.4126, -0.8491],\n",
       "         [-0.9683, -0.9825],\n",
       "         [-1.4430,  0.9061]],\n",
       "\n",
       "        [[-0.9683, -0.9825],\n",
       "         [-1.4430,  0.9061],\n",
       "         [-0.1986,  0.3821]],\n",
       "\n",
       "        [[-1.4430,  0.9061],\n",
       "         [-0.1986,  0.3821],\n",
       "         [-0.5567,  0.9380]],\n",
       "\n",
       "        [[-0.1986,  0.3821],\n",
       "         [-0.5567,  0.9380],\n",
       "         [ 1.1731, -0.3887]],\n",
       "\n",
       "        [[-0.5567,  0.9380],\n",
       "         [ 1.1731, -0.3887],\n",
       "         [ 1.1731, -0.3887]],\n",
       "\n",
       "        [[ 1.1731, -0.3887],\n",
       "         [ 1.1731, -0.3887],\n",
       "         [-1.4430,  0.9061]],\n",
       "\n",
       "        [[ 0.7381,  1.2096],\n",
       "         [ 0.7381,  1.2096],\n",
       "         [ 0.7381,  1.2096]],\n",
       "\n",
       "        [[ 0.7381,  1.2096],\n",
       "         [ 0.7381,  1.2096],\n",
       "         [-0.9683, -0.9825]],\n",
       "\n",
       "        [[ 0.7381,  1.2096],\n",
       "         [-0.9683, -0.9825],\n",
       "         [-0.4143, -1.0254]],\n",
       "\n",
       "        [[-0.9683, -0.9825],\n",
       "         [-0.4143, -1.0254],\n",
       "         [-1.6760,  1.1273]],\n",
       "\n",
       "        [[-0.4143, -1.0254],\n",
       "         [-1.6760,  1.1273],\n",
       "         [ 0.2628, -0.0145]],\n",
       "\n",
       "        [[-1.6760,  1.1273],\n",
       "         [ 0.2628, -0.0145],\n",
       "         [ 1.4126, -0.8491]],\n",
       "\n",
       "        [[ 0.2628, -0.0145],\n",
       "         [ 1.4126, -0.8491],\n",
       "         [-1.4430,  0.9061]]])"
      ]
     },
     "execution_count": 63,
     "metadata": {},
     "output_type": "execute_result"
    }
   ],
   "source": [
    "# the input X will be mapped into the C \n",
    "# and for every one of the 32,3 integers there is a 2 dimensional mapping in C\n",
    "emd = C[X] \n",
    "print(emd.shape)\n",
    "emd"
   ]
  },
  {
   "cell_type": "code",
   "execution_count": 64,
   "metadata": {},
   "outputs": [],
   "source": [
    "W1 = torch.randn((6, 100))\n",
    "b1 = torch.randn(100)"
   ]
  },
  {
   "cell_type": "code",
   "execution_count": 65,
   "metadata": {},
   "outputs": [
    {
     "data": {
      "text/plain": [
       "tensor([[ 0.7381,  1.2096,  0.7381,  1.2096,  0.7381,  1.2096],\n",
       "        [ 0.7381,  1.2096,  0.7381,  1.2096, -0.5567,  0.9380],\n",
       "        [ 0.7381,  1.2096, -0.5567,  0.9380,  0.3784,  1.1381],\n",
       "        [-0.5567,  0.9380,  0.3784,  1.1381,  0.3784,  1.1381],\n",
       "        [ 0.3784,  1.1381,  0.3784,  1.1381, -1.4430,  0.9061],\n",
       "        [ 0.7381,  1.2096,  0.7381,  1.2096,  0.7381,  1.2096],\n",
       "        [ 0.7381,  1.2096,  0.7381,  1.2096, -0.4143, -1.0254],\n",
       "        [ 0.7381,  1.2096, -0.4143, -1.0254,  1.1731, -0.3887],\n",
       "        [-0.4143, -1.0254,  1.1731, -0.3887,  1.4126, -0.8491],\n",
       "        [ 1.1731, -0.3887,  1.4126, -0.8491, -2.0905, -0.7433],\n",
       "        [ 1.4126, -0.8491, -2.0905, -0.7433,  1.4126, -0.8491],\n",
       "        [-2.0905, -0.7433,  1.4126, -0.8491, -1.4430,  0.9061],\n",
       "        [ 0.7381,  1.2096,  0.7381,  1.2096,  0.7381,  1.2096],\n",
       "        [ 0.7381,  1.2096,  0.7381,  1.2096, -1.4430,  0.9061],\n",
       "        [ 0.7381,  1.2096, -1.4430,  0.9061, -2.0905, -0.7433],\n",
       "        [-1.4430,  0.9061, -2.0905, -0.7433, -1.4430,  0.9061],\n",
       "        [ 0.7381,  1.2096,  0.7381,  1.2096,  0.7381,  1.2096],\n",
       "        [ 0.7381,  1.2096,  0.7381,  1.2096,  1.4126, -0.8491],\n",
       "        [ 0.7381,  1.2096,  1.4126, -0.8491, -0.9683, -0.9825],\n",
       "        [ 1.4126, -0.8491, -0.9683, -0.9825, -1.4430,  0.9061],\n",
       "        [-0.9683, -0.9825, -1.4430,  0.9061, -0.1986,  0.3821],\n",
       "        [-1.4430,  0.9061, -0.1986,  0.3821, -0.5567,  0.9380],\n",
       "        [-0.1986,  0.3821, -0.5567,  0.9380,  1.1731, -0.3887],\n",
       "        [-0.5567,  0.9380,  1.1731, -0.3887,  1.1731, -0.3887],\n",
       "        [ 1.1731, -0.3887,  1.1731, -0.3887, -1.4430,  0.9061],\n",
       "        [ 0.7381,  1.2096,  0.7381,  1.2096,  0.7381,  1.2096],\n",
       "        [ 0.7381,  1.2096,  0.7381,  1.2096, -0.9683, -0.9825],\n",
       "        [ 0.7381,  1.2096, -0.9683, -0.9825, -0.4143, -1.0254],\n",
       "        [-0.9683, -0.9825, -0.4143, -1.0254, -1.6760,  1.1273],\n",
       "        [-0.4143, -1.0254, -1.6760,  1.1273,  0.2628, -0.0145],\n",
       "        [-1.6760,  1.1273,  0.2628, -0.0145,  1.4126, -0.8491],\n",
       "        [ 0.2628, -0.0145,  1.4126, -0.8491, -1.4430,  0.9061]])"
      ]
     },
     "execution_count": 65,
     "metadata": {},
     "output_type": "execute_result"
    }
   ],
   "source": [
    "# torch.cat() concatenates two tensors and it can be done along two dimensions \n",
    "# if it is done using dim 0 -> along rows and using dim1 -> columns\n",
    "torch.cat([emd[:,0,:], emd[:,1,:], emd[:,2,:]], 1)"
   ]
  },
  {
   "cell_type": "code",
   "execution_count": 69,
   "metadata": {},
   "outputs": [
    {
     "data": {
      "text/plain": [
       "tensor([[ 0.7381,  1.2096,  0.7381,  1.2096,  0.7381,  1.2096],\n",
       "        [ 0.7381,  1.2096,  0.7381,  1.2096, -0.5567,  0.9380],\n",
       "        [ 0.7381,  1.2096, -0.5567,  0.9380,  0.3784,  1.1381],\n",
       "        [-0.5567,  0.9380,  0.3784,  1.1381,  0.3784,  1.1381],\n",
       "        [ 0.3784,  1.1381,  0.3784,  1.1381, -1.4430,  0.9061],\n",
       "        [ 0.7381,  1.2096,  0.7381,  1.2096,  0.7381,  1.2096],\n",
       "        [ 0.7381,  1.2096,  0.7381,  1.2096, -0.4143, -1.0254],\n",
       "        [ 0.7381,  1.2096, -0.4143, -1.0254,  1.1731, -0.3887],\n",
       "        [-0.4143, -1.0254,  1.1731, -0.3887,  1.4126, -0.8491],\n",
       "        [ 1.1731, -0.3887,  1.4126, -0.8491, -2.0905, -0.7433],\n",
       "        [ 1.4126, -0.8491, -2.0905, -0.7433,  1.4126, -0.8491],\n",
       "        [-2.0905, -0.7433,  1.4126, -0.8491, -1.4430,  0.9061],\n",
       "        [ 0.7381,  1.2096,  0.7381,  1.2096,  0.7381,  1.2096],\n",
       "        [ 0.7381,  1.2096,  0.7381,  1.2096, -1.4430,  0.9061],\n",
       "        [ 0.7381,  1.2096, -1.4430,  0.9061, -2.0905, -0.7433],\n",
       "        [-1.4430,  0.9061, -2.0905, -0.7433, -1.4430,  0.9061],\n",
       "        [ 0.7381,  1.2096,  0.7381,  1.2096,  0.7381,  1.2096],\n",
       "        [ 0.7381,  1.2096,  0.7381,  1.2096,  1.4126, -0.8491],\n",
       "        [ 0.7381,  1.2096,  1.4126, -0.8491, -0.9683, -0.9825],\n",
       "        [ 1.4126, -0.8491, -0.9683, -0.9825, -1.4430,  0.9061],\n",
       "        [-0.9683, -0.9825, -1.4430,  0.9061, -0.1986,  0.3821],\n",
       "        [-1.4430,  0.9061, -0.1986,  0.3821, -0.5567,  0.9380],\n",
       "        [-0.1986,  0.3821, -0.5567,  0.9380,  1.1731, -0.3887],\n",
       "        [-0.5567,  0.9380,  1.1731, -0.3887,  1.1731, -0.3887],\n",
       "        [ 1.1731, -0.3887,  1.1731, -0.3887, -1.4430,  0.9061],\n",
       "        [ 0.7381,  1.2096,  0.7381,  1.2096,  0.7381,  1.2096],\n",
       "        [ 0.7381,  1.2096,  0.7381,  1.2096, -0.9683, -0.9825],\n",
       "        [ 0.7381,  1.2096, -0.9683, -0.9825, -0.4143, -1.0254],\n",
       "        [-0.9683, -0.9825, -0.4143, -1.0254, -1.6760,  1.1273],\n",
       "        [-0.4143, -1.0254, -1.6760,  1.1273,  0.2628, -0.0145],\n",
       "        [-1.6760,  1.1273,  0.2628, -0.0145,  1.4126, -0.8491],\n",
       "        [ 0.2628, -0.0145,  1.4126, -0.8491, -1.4430,  0.9061]])"
      ]
     },
     "execution_count": 69,
     "metadata": {},
     "output_type": "execute_result"
    }
   ],
   "source": [
    "# but the above block's code is not generalised what if the \n",
    "# instead of .cat on the previous code ([emd[:,0,:], emd[:,1,:], emd[:,2,:]]), use .unbind which will remove one dimension \n",
    "# note -> but both this and the code in the previous block is inefficient \n",
    "torch.cat(torch.unbind(emd,1),1)"
   ]
  },
  {
   "cell_type": "code",
   "execution_count": null,
   "metadata": {},
   "outputs": [],
   "source": [
    "# a.view can be used to manipulate the tensor if the elements of a remain same\n",
    "# a.storage() tells about how every tensor is stored in the computer\n",
    "\n",
    "#the efficient way is to just use .view when doing the forward pass\n",
    "#there is -1 because pytorch will determine itself what should be in here\n"
   ]
  }
 ],
 "metadata": {
  "kernelspec": {
   "display_name": ".venv",
   "language": "python",
   "name": "python3"
  },
  "language_info": {
   "codemirror_mode": {
    "name": "ipython",
    "version": 3
   },
   "file_extension": ".py",
   "mimetype": "text/x-python",
   "name": "python",
   "nbconvert_exporter": "python",
   "pygments_lexer": "ipython3",
   "version": "3.11.3"
  }
 },
 "nbformat": 4,
 "nbformat_minor": 2
}
